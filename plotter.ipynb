{
 "cells": [
  {
   "cell_type": "code",
   "execution_count": null,
   "metadata": {},
   "outputs": [],
   "source": [
    "import pickle\n",
    "import numpy as np\n",
    "import matplotlib.pyplot as plt"
   ]
  },
  {
   "cell_type": "code",
   "execution_count": null,
   "metadata": {
    "scrolled": true
   },
   "outputs": [],
   "source": [
    "def moving_avg(arr, window=3):\n",
    "    arr2 = np.zeros_like(arr).astype(np.float32)\n",
    "    for i in range(0,window-1):\n",
    "        arr2[i] = arr[:i+1].mean()\n",
    "    for i in range(window-1,len(arr)):\n",
    "        arr2[i] = arr[i-window+1:i+1].mean()\n",
    "    return arr2\n",
    "#moving_avg(input_arr[1],5)\n",
    "#input_arr\n",
    "    "
   ]
  },
  {
   "cell_type": "code",
   "execution_count": null,
   "metadata": {},
   "outputs": [],
   "source": [
    "mycore = 4\n",
    "desiredslice=3\n",
    "datalist = pickle.load(open('core'+str(mycore)+'ToSlice'+str(desiredslice)+'.pkl', 'rb'))"
   ]
  },
  {
   "cell_type": "code",
   "execution_count": null,
   "metadata": {},
   "outputs": [],
   "source": [
    "targets = []\n",
    "inputs = []\n",
    "offset = 31\n",
    "threshold = 40+offset\n",
    "for data in datalist:\n",
    "    for i in range(1,len(data)):\n",
    "        bit, trace = data[i]\n",
    "        if data[i-1][0] == 0:\n",
    "            continue\n",
    "        if len(trace) >= threshold:\n",
    "            targets.append(bit)\n",
    "            inputs.append(list(trace[:threshold]))\n",
    "        elif len(trace) >= threshold//2 and i < len(data)-1 and len(data[i+1][1]) + len(trace) >= threshold:\n",
    "            pass\n",
    "            #targets.append(bit)\n",
    "            #inputs.append(list(trace) + list(data[i+1][1][:threshold-len(trace)]))\n",
    "            \n",
    "target_arr = np.array(targets)\n",
    "input_arr = np.array(inputs)\n",
    "print(len(input_arr))\n",
    "print(target_arr.sum())"
   ]
  },
  {
   "cell_type": "code",
   "execution_count": null,
   "metadata": {
    "scrolled": false
   },
   "outputs": [],
   "source": [
    "\n",
    "fig = plt.figure(figsize=(15,15))\n",
    "seed = np.random.randint(len(targets)-10)\n",
    "for idx in range(1,10):\n",
    "    rn = seed + idx\n",
    "    ax1 = fig.add_subplot(3,3,idx)\n",
    "    ax1.set_title(str(targets[rn]))\n",
    "    xaxis = np.arange(1,threshold+1-31)\n",
    "    yaxis = moving_avg(input_arr[rn][31:],3)\n",
    "    #yaxis = input_arr[rn]\n",
    "    print(input_arr[rn].mean())\n",
    "    ax1.plot(xaxis,yaxis)\n",
    "    axes = plt.gca()\n",
    "    #axes.set_ylim([145,220])\n",
    "fig.show()"
   ]
  },
  {
   "cell_type": "code",
   "execution_count": null,
   "metadata": {},
   "outputs": [],
   "source": [
    "train_x = []\n",
    "train_y = []\n",
    "test_x = []\n",
    "test_y = []\n",
    "\n",
    "mn = input_arr.mean()\n",
    "st = input_arr.std()\n",
    "\n",
    "for i in range(len(target_arr)):\n",
    "    #mn = input_arr[i].mean()\n",
    "    #st = input_arr[i].std()\n",
    "    xdata = (input_arr[i]-mn)/st\n",
    "    if i%4 == 0:\n",
    "        test_x.append(xdata[31:])\n",
    "        test_y.append(target_arr[i])\n",
    "    else:\n",
    "        train_x.append(xdata[31:])\n",
    "        train_y.append(target_arr[i])\n",
    "len(test_x)"
   ]
  },
  {
   "cell_type": "code",
   "execution_count": null,
   "metadata": {},
   "outputs": [],
   "source": [
    "from sklearn import svm\n",
    "clf = svm.SVC()\n",
    "clf.fit(train_x, train_y)\n",
    "pred_y = clf.predict(test_x)\n",
    "#tpred_y = clf.predict(train_x)\n",
    "(pred_y == test_y).sum()/len(pred_y)\n",
    "#(tpred_y == train_y).sum()/len(train_y)"
   ]
  },
  {
   "cell_type": "code",
   "execution_count": null,
   "metadata": {},
   "outputs": [],
   "source": [
    "from sklearn.metrics import f1_score\n",
    "f1_score(test_y, pred_y)"
   ]
  },
  {
   "cell_type": "code",
   "execution_count": null,
   "metadata": {},
   "outputs": [],
   "source": [
    "lens = [(len(d[1]),d[0]) for d in data]"
   ]
  },
  {
   "cell_type": "code",
   "execution_count": null,
   "metadata": {},
   "outputs": [],
   "source": [
    "lens"
   ]
  },
  {
   "cell_type": "code",
   "execution_count": null,
   "metadata": {},
   "outputs": [],
   "source": [
    "input_arr.mean()"
   ]
  },
  {
   "cell_type": "code",
   "execution_count": null,
   "metadata": {},
   "outputs": [],
   "source": [
    "import torch\n",
    "def shifter(arr, window=32):\n",
    "    dup = arr.expand(arr.size(0), arr.size(1)+1, arr.size(1))\n",
    "    dup2 = dup.reshape(arr.size(0), arr.size(1), arr.size(1)+1)\n",
    "    shifted = dup2[:,:,:window]\n",
    "    return shifted\n",
    "print(shifter(torch.arange(42).view(1,42)))"
   ]
  },
  {
   "cell_type": "code",
   "execution_count": null,
   "metadata": {},
   "outputs": [],
   "source": [
    "gaup = [2.46, 3.08, 3.80, 4.62, 5.43, 6.21, 6.95, 7.75]\n",
    "gaup = np.array(gaup)*8\n",
    "gaua = [0.612, 0.598, 0.581, 0.573, 0.565, 0.571, 0.553, 0.554]\n",
    "\n",
    "sinp = [2.03, 2.94, 3.87, 4.67, 5.70, 6.69, 7.51, 8.48]\n",
    "sinp = np.array(sinp)*8\n",
    "sina = [0.659, 0.614, 0.603, 0.592, 0.576, 0.568, 0.566, 0.556]\n",
    "\n",
    "advp = [2.51, 2.58, 2.71, 4.15, 5.22, 6.32, 7.30, 7.41]\n",
    "advp = np.array(advp)*8\n",
    "adva = [0.528, 0.511, 0.507, 0.501, 0.5, 0.5, 0.5, 0.5]\n",
    "\n",
    "\n",
    "plt.plot(gaup, gaua, label = \"Gaussian\")\n",
    "\n",
    "plt.plot(sinp, sina, label = \"Gaussian Sinusoid\")\n",
    "\n",
    "plt.plot(advp, adva, label = \"Adversarial ML\")\n",
    "\n",
    "plt.xlabel('Avg. added cycles')\n",
    "# Set the y axis label of the current axis.\n",
    "plt.ylabel('Classifier Accuracy')\n",
    "# Set a title of the current axes.\n",
    "plt.title('Mask generator comparison')\n",
    "# show a legend on the plot\n",
    "plt.legend()\n",
    "# Display a figure.\n",
    "plt.show()"
   ]
  },
  {
   "cell_type": "code",
   "execution_count": null,
   "metadata": {},
   "outputs": [],
   "source": []
  }
 ],
 "metadata": {
  "kernelspec": {
   "display_name": "Python 3",
   "language": "python",
   "name": "python3"
  },
  "language_info": {
   "codemirror_mode": {
    "name": "ipython",
    "version": 3
   },
   "file_extension": ".py",
   "mimetype": "text/x-python",
   "name": "python",
   "nbconvert_exporter": "python",
   "pygments_lexer": "ipython3",
   "version": "3.8.3"
  }
 },
 "nbformat": 4,
 "nbformat_minor": 2
}
