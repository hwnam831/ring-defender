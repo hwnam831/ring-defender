{
 "cells": [
  {
   "cell_type": "code",
   "execution_count": null,
   "metadata": {},
   "outputs": [],
   "source": [
    "import os\n",
    "import os\n",
    "import numpy as np\n",
    "import pickle\n",
    "import torch\n",
    "from torch.utils.data import Dataset, DataLoader\n",
    "import torch.nn as nn\n",
    "import re\n",
    "import time\n",
    "from Util import Env, quantizer, shifter, get_parser\n",
    "datadir = 'lotr/04-crypto-sc/data/'"
   ]
  },
  {
   "cell_type": "code",
   "execution_count": null,
   "metadata": {},
   "outputs": [],
   "source": [
    "onefiles = os.listdir(datadir + 'eddsa-1-parsed')\n",
    "onelist = []\n",
    "for fname in onefiles:\n",
    "    with open(datadir + 'eddsa-1-parsed/' + fname, 'r') as f:\n",
    "        onelist.append([int(n) for n in f])\n",
    "print(len(onelist))\n",
    "onethreshold = np.percentile(np.array([len(l) for l in onelist]),0.3)\n",
    "\n",
    "zerofiles = os.listdir(datadir + 'eddsa-0-parsed')\n",
    "zerolist = []\n",
    "for fname in zerofiles:\n",
    "    with open(datadir + 'eddsa-0-parsed/' + fname, 'r') as f:\n",
    "        zerolist.append([int(n) for n in f])\n",
    "print(len(zerolist))\n",
    "zerothreshold = np.percentile(np.array([len(l) for l in zerolist]),0.3)\n",
    "print((onethreshold, zerothreshold))"
   ]
  },
  {
   "cell_type": "code",
   "execution_count": null,
   "metadata": {},
   "outputs": [],
   "source": [
    "threshold = int(min(zerothreshold, onethreshold))\n",
    "newzero = [z for z in zerolist if len(z) >= threshold]\n",
    "newone = [o for o in onelist if len(o) >= threshold]\n",
    "dsize = min((len(newzero),len(newone)))\n",
    "x_arr = np.zeros([dsize*2, threshold],dtype=np.float32)\n",
    "y_arr = np.arange(dsize*2)%2\n",
    "for i in range(dsize):\n",
    "    x_arr[2*i] = newzero[i][:threshold]\n",
    "    x_arr[2*i+1] = newone[i][:threshold]\n",
    "print(x_arr.shape)"
   ]
  },
  {
   "cell_type": "code",
   "execution_count": null,
   "metadata": {},
   "outputs": [],
   "source": [
    "std = 16\n",
    "mean = np.median(x_arr)\n",
    "x_arr2 = (x_arr-mean)/std\n",
    "print((mean,))"
   ]
  },
  {
   "cell_type": "code",
   "execution_count": null,
   "metadata": {},
   "outputs": [],
   "source": [
    "train_x = x_arr2[:3000]\n",
    "train_y = y_arr[:3000]\n",
    "valid_x = x_arr2[3000:4000]\n",
    "valid_y = y_arr[3000:4000]\n",
    "test_x = x_arr2[4000:5000]\n",
    "test_y = y_arr[4000:5000]\n",
    "from sklearn import svm\n",
    "clf = svm.SVC(kernel = 'rbf',gamma=0.001, C=0.5)\n",
    "\n",
    "clf.fit(train_x, train_y)\n",
    "pred_y = clf.predict(test_x)\n",
    "#tpred_y = clf.predict(train_x)\n",
    "(pred_y == test_y).sum()/len(pred_y)"
   ]
  },
  {
   "cell_type": "code",
   "execution_count": null,
   "metadata": {},
   "outputs": [],
   "source": [
    "pickle.dump((x_arr, y_arr), open(\"eddsa.pkl\", \"wb\"))\n",
    "pickle.dump((x_arr[:4000], y_arr[:4000]), open(\"eddsa_train.pkl\", \"wb\"))\n",
    "pickle.dump((x_arr[4000:4500], y_arr[4000:4500]), open(\"eddsa_valid.pkl\", \"wb\"))\n",
    "pickle.dump((x_arr[4500:5000], y_arr[4500:5000]), open(\"eddsa_test.pkl\", \"wb\"))"
   ]
  },
  {
   "cell_type": "code",
   "execution_count": null,
   "metadata": {},
   "outputs": [],
   "source": [
    "onefiles = os.listdir(datadir + 'rsa-1-parsed')\n",
    "onelist = []\n",
    "for fname in onefiles:\n",
    "    with open(datadir + 'rsa-1-parsed/' + fname, 'r') as f:\n",
    "        onelist.append([int(n) for n in f])\n",
    "print(len(onelist))\n",
    "onethreshold = np.percentile(np.array([len(l) for l in onelist]),0.3)\n",
    "\n",
    "zerofiles = os.listdir(datadir + 'rsa-0-parsed')\n",
    "zerolist = []\n",
    "for fname in zerofiles:\n",
    "    with open(datadir + 'rsa-0-parsed/' + fname, 'r') as f:\n",
    "        zerolist.append([int(n) for n in f])\n",
    "print(len(zerolist))\n",
    "zerothreshold = np.percentile(np.array([len(l) for l in zerolist]),0.3)\n",
    "print((onethreshold, zerothreshold))"
   ]
  },
  {
   "cell_type": "code",
   "execution_count": null,
   "metadata": {},
   "outputs": [],
   "source": [
    "threshold = int(min(zerothreshold, onethreshold))\n",
    "newzero = [z for z in zerolist if len(z) >= threshold]\n",
    "newone = [o for o in onelist if len(o) >= threshold]\n",
    "dsize = min((len(newzero),len(newone)))\n",
    "x_arr = np.zeros([dsize*2, threshold],dtype=np.float32)\n",
    "y_arr = np.arange(dsize*2)%2\n",
    "for i in range(dsize):\n",
    "    x_arr[2*i] = newzero[i][:threshold]\n",
    "    x_arr[2*i+1] = newone[i][:threshold]\n",
    "print(x_arr.shape)\n",
    "\n",
    "std = 16\n",
    "mean = np.median(x_arr)\n",
    "x_arr2 = (x_arr-mean)/std\n",
    "print((mean,))"
   ]
  },
  {
   "cell_type": "code",
   "execution_count": null,
   "metadata": {},
   "outputs": [],
   "source": [
    "train_x = x_arr2[:4000]\n",
    "train_y = y_arr[:4000]\n",
    "valid_x = x_arr2[4000:4500]\n",
    "valid_y = y_arr[4000:4500]\n",
    "test_x = x_arr2[4500:5000]\n",
    "test_y = y_arr[4500:5000]\n",
    "from sklearn import svm\n",
    "clf = svm.SVC(kernel = 'rbf',gamma=0.001, C=10.0)\n",
    "\n",
    "clf.fit(train_x, train_y)\n",
    "pred_y = clf.predict(test_x)\n",
    "#tpred_y = clf.predict(train_x)\n",
    "(pred_y == test_y).sum()/len(pred_y)"
   ]
  },
  {
   "cell_type": "code",
   "execution_count": null,
   "metadata": {},
   "outputs": [],
   "source": [
    "pickle.dump((x_arr, y_arr), open(\"rsa.pkl\", \"wb\"))\n",
    "pickle.dump((x_arr[:4000], y_arr[:4000]), open(\"rsa_train.pkl\", \"wb\"))\n",
    "pickle.dump((x_arr[4000:4500], y_arr[4000:4500]), open(\"rsa_valid.pkl\", \"wb\"))\n",
    "pickle.dump((x_arr[4500:5000], y_arr[4500:5000]), open(\"rsa_test.pkl\", \"wb\"))"
   ]
  },
  {
   "cell_type": "code",
   "execution_count": null,
   "metadata": {},
   "outputs": [],
   "source": []
  }
 ],
 "metadata": {
  "kernelspec": {
   "display_name": "torch",
   "language": "python",
   "name": "python3"
  },
  "language_info": {
   "codemirror_mode": {
    "name": "ipython",
    "version": 3
   },
   "file_extension": ".py",
   "mimetype": "text/x-python",
   "name": "python",
   "nbconvert_exporter": "python",
   "pygments_lexer": "ipython3",
   "version": "3.7.11"
  },
  "orig_nbformat": 4,
  "vscode": {
   "interpreter": {
    "hash": "2657186c0a85c2e6baa4c072599c792136a86a2a4c2021b8710be0ae7329b2e9"
   }
  }
 },
 "nbformat": 4,
 "nbformat_minor": 2
}
