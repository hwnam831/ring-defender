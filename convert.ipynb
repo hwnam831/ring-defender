{
 "cells": [
  {
   "cell_type": "code",
   "execution_count": null,
   "metadata": {},
   "outputs": [],
   "source": [
    "import os\n",
    "import os\n",
    "import numpy as np\n",
    "import pickle\n",
    "import torch\n",
    "from torch.utils.data import Dataset, DataLoader\n",
    "import torch.nn as nn\n",
    "import re\n",
    "import time\n",
    "\n",
    "data = pickle.load(open(\"core4ToSlice3_train.pkl\",'rb'))"
   ]
  },
  {
   "cell_type": "code",
   "execution_count": null,
   "metadata": {},
   "outputs": [],
   "source": [
    "len(data)"
   ]
  },
  {
   "cell_type": "code",
   "execution_count": null,
   "metadata": {},
   "outputs": [],
   "source": [
    "marr = []\n",
    "for d in data:\n",
    "    lenarr = [len(i[1]) for i in d]\n",
    "    med = int(np.median(np.array(lenarr)))\n",
    "    marr.append(med)\n",
    "    flagarr = [int(l > med-5) for l in lenarr]\n",
    "    print(sum(flagarr))\n"
   ]
  },
  {
   "cell_type": "code",
   "execution_count": null,
   "metadata": {},
   "outputs": [],
   "source": [
    "cutoff = int(np.median(marr))\n",
    "cutoff"
   ]
  },
  {
   "cell_type": "code",
   "execution_count": null,
   "metadata": {},
   "outputs": [],
   "source": [
    "xarr = None\n",
    "yarr = None\n",
    "for d in data:\n",
    "    zeroarr = []\n",
    "    onearr = []\n",
    "    for trace in d:\n",
    "        label = trace[0]\n",
    "        signal = trace[1]\n",
    "        if len(signal) < cutoff:\n",
    "            continue\n",
    "        if label == 0:\n",
    "            zeroarr.append(signal[-cutoff+32:])\n",
    "        else:\n",
    "            onearr.append(signal[-cutoff+32:])\n",
    "    #print((len(zeroarr),len(onearr)))\n",
    "    minlen = min(len(zeroarr),len(onearr))\n",
    "    zeroarr = zeroarr[:minlen]\n",
    "    onearr = onearr[:minlen]\n",
    "    xarr_new = np.stack([np.array(zeroarr),np.array(onearr)],axis=2).reshape([minlen*2,-1])\n",
    "    yarr_new = np.array([i%2 for i in range(minlen*2)])\n",
    "    if xarr is None:\n",
    "        xarr = xarr_new\n",
    "        yarr = yarr_new\n",
    "    else:\n",
    "        xarr = np.concatenate([xarr, xarr_new],axis=0)\n",
    "        yarr = np.concatenate([yarr, yarr_new],axis=0)\n",
    "        "
   ]
  },
  {
   "cell_type": "code",
   "execution_count": null,
   "metadata": {},
   "outputs": [],
   "source": [
    "yarr = yarr.astype(np.int64)\n",
    "xarr = xarr.astype(np.float32)"
   ]
  },
  {
   "cell_type": "code",
   "execution_count": null,
   "metadata": {},
   "outputs": [],
   "source": [
    "pickle.dump((xarr, yarr), open(\"rsa.pkl\", \"wb\"))\n",
    "pickle.dump((xarr[:7000], yarr[:7000]), open(\"rsa_train.pkl\", \"wb\"))\n",
    "pickle.dump((xarr[7000:9000], yarr[7000:9000]), open(\"rsa_valid.pkl\", \"wb\"))\n",
    "pickle.dump((xarr[9000:10000], yarr[9000:10000]), open(\"rsa_test.pkl\", \"wb\"))"
   ]
  },
  {
   "cell_type": "code",
   "execution_count": null,
   "metadata": {},
   "outputs": [],
   "source": [
    "xx, yy = data = pickle.load(open(\"eddsa.pkl\",'rb'))"
   ]
  },
  {
   "cell_type": "code",
   "execution_count": null,
   "metadata": {},
   "outputs": [],
   "source": [
    "xx.shape"
   ]
  },
  {
   "cell_type": "code",
   "execution_count": null,
   "metadata": {},
   "outputs": [],
   "source": [
    "pickle.dump((xx[:7000], yy[:7000]), open(\"eddsa_train.pkl\", \"wb\"))\n",
    "pickle.dump((xx[7000:9000], yy[7000:9000]), open(\"eddsa_valid.pkl\", \"wb\"))\n",
    "pickle.dump((xx[9000:10000], yy[9000:10000]), open(\"eddsa_test.pkl\", \"wb\"))"
   ]
  },
  {
   "cell_type": "code",
   "execution_count": null,
   "metadata": {},
   "outputs": [],
   "source": [
    "yy"
   ]
  },
  {
   "cell_type": "code",
   "execution_count": null,
   "metadata": {},
   "outputs": [],
   "source": []
  }
 ],
 "metadata": {
  "kernelspec": {
   "display_name": "base",
   "language": "python",
   "name": "python3"
  },
  "language_info": {
   "codemirror_mode": {
    "name": "ipython",
    "version": 3
   },
   "file_extension": ".py",
   "mimetype": "text/x-python",
   "name": "python",
   "nbconvert_exporter": "python",
   "pygments_lexer": "ipython3",
   "version": "3.10.9"
  },
  "orig_nbformat": 4
 },
 "nbformat": 4,
 "nbformat_minor": 2
}
