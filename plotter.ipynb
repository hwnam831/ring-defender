{
 "cells": [
  {
   "cell_type": "code",
   "execution_count": null,
   "metadata": {},
   "outputs": [],
   "source": [
    "import pickle\n",
    "import numpy as np\n",
    "import matplotlib.pyplot as plt\n",
    "import matplotlib.cm as cm"
   ]
  },
  {
   "cell_type": "code",
   "execution_count": null,
   "metadata": {
    "scrolled": true
   },
   "outputs": [],
   "source": [
    "def moving_avg(arr, window=3):\n",
    "    arr2 = np.zeros_like(arr).astype(np.float32)\n",
    "    for i in range(0,window-1):\n",
    "        arr2[i] = arr[:i+1].mean()\n",
    "    for i in range(window-1,len(arr)):\n",
    "        arr2[i] = arr[i-window+1:i+1].mean()\n",
    "    return arr2\n",
    "#moving_avg(input_arr[1],5)\n",
    "#input_arr\n",
    "    "
   ]
  },
  {
   "cell_type": "code",
   "execution_count": null,
   "metadata": {},
   "outputs": [],
   "source": [
    "mycore = 4\n",
    "desiredslice=3\n",
    "datalist = pickle.load(open('core'+str(mycore)+'ToSlice'+str(desiredslice)+'.pkl', 'rb'))"
   ]
  },
  {
   "cell_type": "code",
   "execution_count": null,
   "metadata": {},
   "outputs": [],
   "source": [
    "targets = []\n",
    "inputs = []\n",
    "offset = 31\n",
    "threshold = 42+offset\n",
    "for data in datalist:\n",
    "    for i in range(1,len(data)):\n",
    "        bit, trace = data[i]\n",
    "        if data[i-1][0] == 0:\n",
    "            continue\n",
    "        if len(trace) >= threshold:\n",
    "            targets.append(bit)\n",
    "            inputs.append(list(trace[:threshold]))\n",
    "        elif len(trace) >= threshold//2 and i < len(data)-1 and len(data[i+1][1]) + len(trace) >= threshold:\n",
    "            pass\n",
    "            #targets.append(bit)\n",
    "            #inputs.append(list(trace) + list(data[i+1][1][:threshold-len(trace)]))\n",
    "            \n",
    "target_arr = np.array(targets)\n",
    "input_arr = np.array(inputs)\n",
    "print(len(input_arr))\n",
    "print(target_arr.sum())"
   ]
  },
  {
   "cell_type": "code",
   "execution_count": null,
   "metadata": {
    "scrolled": false
   },
   "outputs": [],
   "source": [
    "\n",
    "fig = plt.figure(figsize=(15,15))\n",
    "seed = np.random.randint(len(targets)-10)\n",
    "for idx in range(1,10):\n",
    "    rn = seed + idx\n",
    "    ax1 = fig.add_subplot(3,3,idx)\n",
    "    ax1.set_title(str(targets[rn]))\n",
    "    xaxis = np.arange(1,threshold+1-31)\n",
    "    #yaxis = moving_avg(input_arr[rn][31:],3)\n",
    "    yaxis = input_arr[rn][31:]\n",
    "    print(input_arr[rn].mean())\n",
    "    ax1.plot(xaxis,yaxis)\n",
    "    axes = plt.gca()\n",
    "    #axes.set_ylim([145,220])\n",
    "fig.show()"
   ]
  },
  {
   "cell_type": "code",
   "execution_count": null,
   "metadata": {},
   "outputs": [],
   "source": [
    "train_x = []\n",
    "train_y = []\n",
    "test_x = []\n",
    "test_y = []\n",
    "\n",
    "mn = input_arr.mean()\n",
    "st = input_arr.std()\n",
    "\n",
    "for i in range(len(target_arr)):\n",
    "    #mn = input_arr[i].mean()\n",
    "    #st = input_arr[i].std()\n",
    "    xdata = (input_arr[i]-mn)/st\n",
    "    if i%4 == 0:\n",
    "        test_x.append(xdata[31:])\n",
    "        test_y.append(target_arr[i])\n",
    "    else:\n",
    "        train_x.append(xdata[31:])\n",
    "        train_y.append(target_arr[i])\n",
    "len(test_x)"
   ]
  },
  {
   "cell_type": "code",
   "execution_count": null,
   "metadata": {},
   "outputs": [],
   "source": [
    "from sklearn import svm\n",
    "clf = svm.SVC()\n",
    "clf.fit(train_x, train_y)\n",
    "pred_y = clf.predict(test_x)\n",
    "#tpred_y = clf.predict(train_x)\n",
    "(pred_y == test_y).sum()/len(pred_y)\n",
    "#(tpred_y == train_y).sum()/len(train_y)"
   ]
  },
  {
   "cell_type": "code",
   "execution_count": null,
   "metadata": {},
   "outputs": [],
   "source": [
    "from sklearn.metrics import f1_score\n",
    "f1_score(test_y, pred_y)"
   ]
  },
  {
   "cell_type": "code",
   "execution_count": null,
   "metadata": {},
   "outputs": [],
   "source": [
    "lens = [(len(d[1]),d[0]) for d in data]"
   ]
  },
  {
   "cell_type": "code",
   "execution_count": null,
   "metadata": {},
   "outputs": [],
   "source": [
    "lens"
   ]
  },
  {
   "cell_type": "code",
   "execution_count": null,
   "metadata": {},
   "outputs": [],
   "source": [
    "input_arr.mean()"
   ]
  },
  {
   "cell_type": "code",
   "execution_count": null,
   "metadata": {},
   "outputs": [],
   "source": [
    "import torch\n",
    "def shifter(arr, window=32):\n",
    "    dup = arr.expand(arr.size(0), arr.size(1)+1, arr.size(1))\n",
    "    dup2 = dup.reshape(arr.size(0), arr.size(1), arr.size(1)+1)\n",
    "    shifted = dup2[:,:,:window]\n",
    "    return shifted\n",
    "print(shifter(torch.arange(42).view(1,42)))"
   ]
  },
  {
   "cell_type": "code",
   "execution_count": null,
   "metadata": {},
   "outputs": [],
   "source": [
    "gaup = [2.04, 2.57, 3.47, 4.03, 4.84, 5.81, 6.45]\n",
    "gaup = np.array(gaup)*8\n",
    "gaua = [0.592, 0.594, 0.581, 0.574, 0.564, 0.553, 0.549]\n",
    "\n",
    "sinp = [1.72, 2.66, 3.77, 4.44, 5.10, 5.73, 6.75]\n",
    "sinp = np.array(sinp)*8\n",
    "sina = [0.607, 0.590, 0.579, 0.570, 0.559, 0.559, 0.549]\n",
    "\n",
    "advp = [2.33, 2.46, 3.16, 3.88, 4.76, 5.66, 6.51]\n",
    "advp = np.array(advp)*8\n",
    "adva = [0.533, 0.529, 0.535, 0.527, 0.508, 0.507, 0.519]\n",
    "\n",
    "offp = [2.16, 3.12, 4.08, 4.94, 5.48, 6.45]\n",
    "offp = np.array(offp)*8\n",
    "offa = [0.683, 0.639, 0.607, 0.575, 0.5, 0.5]\n",
    "\n",
    "plt.plot(gaup, gaua, label = \"Gaussian\")\n",
    "\n",
    "plt.plot(sinp, sina, label = \"Gaussian Sinusoid\")\n",
    "\n",
    "plt.plot(advp, adva, label = \"Adversarial ML\")\n",
    "\n",
    "plt.plot(offp, offa, label = \"Offset Defender\")\n",
    "\n",
    "plt.xlabel('Avg. added cycles')\n",
    "# Set the y axis label of the current axis.\n",
    "plt.ylabel('Classifier Accuracy')\n",
    "# Set a title of the current axes.\n",
    "plt.title('Test Accuracy')\n",
    "# show a legend on the plot\n",
    "plt.legend()\n",
    "# Display a figure.\n",
    "plt.show()"
   ]
  },
  {
   "cell_type": "code",
   "execution_count": null,
   "metadata": {},
   "outputs": [],
   "source": [
    "mat = [[0.515, 0.597, 0.602], [0.517, 0.535, 0.518], [0.508, 0.5, 0.517]]\n",
    "fig, ax = plt.subplots()\n",
    "ax.set_xticks(np.arange(3))\n",
    "ax.set_yticks(np.arange(3))\n",
    "ax.set_xticklabels(['MLP', 'RNN', 'CNN'])\n",
    "ax.set_yticklabels(['MLP', 'RNN', 'CNN'])\n",
    "ax.imshow(mat, cmap=cm.Greys_r, norm=None)\n",
    "plt.show()"
   ]
  },
  {
   "cell_type": "code",
   "execution_count": null,
   "metadata": {},
   "outputs": [],
   "source": [
    "import RingDataset\n",
    "from Models import CNNModel, RNNModel, RNNGenerator, MLP\n",
    "import torch\n",
    "from torch.utils.data import Dataset, DataLoader\n",
    "from torch.utils.data import random_split\n",
    "import torch.nn as nn\n",
    "\n",
    "testdata = RingDataset.RingDataset(args.file_prefix+'_test.pkl', threshold=42)"
   ]
  }
 ],
 "metadata": {
  "kernelspec": {
   "display_name": "Python 3",
   "language": "python",
   "name": "python3"
  },
  "language_info": {
   "codemirror_mode": {
    "name": "ipython",
    "version": 3
   },
   "file_extension": ".py",
   "mimetype": "text/x-python",
   "name": "python",
   "nbconvert_exporter": "python",
   "pygments_lexer": "ipython3",
   "version": "3.8.3"
  }
 },
 "nbformat": 4,
 "nbformat_minor": 2
}
