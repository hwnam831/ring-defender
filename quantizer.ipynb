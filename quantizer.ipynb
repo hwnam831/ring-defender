{
 "cells": [
  {
   "cell_type": "code",
   "execution_count": null,
   "metadata": {},
   "outputs": [],
   "source": [
    "import RingDataset\n",
    "from Models import CNNModel, RNNGenerator, Distiller, MLP, RNNModel\n",
    "import os\n",
    "import numpy as np\n",
    "import pickle\n",
    "import torch\n",
    "from torch.utils.data import Dataset, DataLoader\n",
    "import torch.nn as nn\n",
    "import re\n",
    "import time"
   ]
  },
  {
   "cell_type": "code",
   "execution_count": null,
   "metadata": {},
   "outputs": [],
   "source": [
    "testset =  RingDataset.RingDataset('core4ToSlice3_test.pkl', threshold=42)\n",
    "\n",
    "testloader = DataLoader(testset, batch_size=256, num_workers=4)\n",
    "classifier_test = CNNModel(42, dim=256).cuda()\n",
    "\n",
    "gen=RNNGenerator(42, scale=0.25, dim=16, drop=0.0)\n",
    "assert os.path.isfile('./models/best_{}_{}.pth'.format('cmp', 16))\n",
    "gen.load_state_dict(torch.load('./models/best_{}_{}.pth'.format('cmp', 16)))\n",
    "\n"
   ]
  },
  {
   "cell_type": "code",
   "execution_count": null,
   "metadata": {},
   "outputs": [],
   "source": [
    "def shifter(arr, window=32):\n",
    "    dup = arr[:,None,:].expand(arr.size(0), arr.size(1)+1, arr.size(1))\n",
    "    dup2 = dup.reshape(arr.size(0), arr.size(1), arr.size(1)+1)\n",
    "    shifted = dup2[:,:window,:-window]\n",
    "    return shifted"
   ]
  },
  {
   "cell_type": "code",
   "execution_count": null,
   "metadata": {},
   "outputs": [],
   "source": [
    "class RNNGen2(nn.Module):\n",
    "    def __init__(self, gen):\n",
    "        super().__init__()\n",
    "        self.encoder = gen.encoder\n",
    "\n",
    "        self.resblock = gen.resblock\n",
    "\n",
    "        self.decoder = gen.decoder\n",
    "\n",
    "\n",
    "    def forward(self, x, distill=False):\n",
    "\n",
    "        encoded = self.encoder(x.permute(0,2,1)) #N,C,S -> N,S,C\n",
    "        \n",
    "        res, _ = self.resblock(encoded)\n",
    "        out = encoded + res #N,S,C\n",
    "        out = self.decoder(out).view(out.size(0),-1)\n",
    "        #out = out + self.scale*torch.randn_like(out)\n",
    "        #out = out + noise\n",
    "        \n",
    "        if distill:\n",
    "            return torch.relu(out), (encoded, res, out)\n",
    "        else: \n",
    "            return torch.relu(out)\n",
    "gen2 = RNNGen2(gen)"
   ]
  },
  {
   "cell_type": "code",
   "execution_count": null,
   "metadata": {},
   "outputs": [],
   "source": [
    "model = gen2\n",
    "model.eval()\n",
    "\n",
    "model.qconfig = torch.quantization.get_default_qconfig('fbgemm')\n",
    "\n",
    "# Prepare the model for static quantization. This inserts observers in\n",
    "# the model that will observe activation tensors during calibration.\n",
    "model_fp32_prepared = torch.quantization.prepare(model)\n",
    "\n",
    "# calibrate the prepared model to determine quantization parameters for activations\n",
    "# in a real world setting, the calibration would be done with a representative dataset\n",
    "input_fp32, _ = next(iter(testloader))\n",
    "shifted = shifter(input_fp32)\n",
    "model_fp32_prepared(shifted)\n",
    "\n",
    "# Convert the observed model to a quantized model. This does several things:\n",
    "# quantizes the weights, computes and stores the scale and bias value to be\n",
    "# used with each activation tensor, and replaces key operators with quantized\n",
    "# implementations.\n",
    "model_int8 = torch.quantization.convert(model_fp32_prepared)\n",
    "\n",
    "# run the model, relevant calculations will happen in int8\n",
    "\n",
    "\n",
    "\n",
    "\n",
    "# run the model, relevant calculations will happen in int8\n",
    "res = model_int8(shifted)"
   ]
  },
  {
   "cell_type": "code",
   "execution_count": null,
   "metadata": {},
   "outputs": [],
   "source": [
    "torch.backends.quantized.supported_engines"
   ]
  },
  {
   "cell_type": "code",
   "execution_count": null,
   "metadata": {},
   "outputs": [],
   "source": []
  }
 ],
 "metadata": {
  "kernelspec": {
   "display_name": "Python 3",
   "language": "python",
   "name": "python3"
  },
  "language_info": {
   "codemirror_mode": {
    "name": "ipython",
    "version": 3
   },
   "file_extension": ".py",
   "mimetype": "text/x-python",
   "name": "python",
   "nbconvert_exporter": "python",
   "pygments_lexer": "ipython3",
   "version": "3.7.6"
  }
 },
 "nbformat": 4,
 "nbformat_minor": 4
}
