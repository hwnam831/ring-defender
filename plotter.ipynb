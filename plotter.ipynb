{
 "cells": [
  {
   "cell_type": "code",
   "execution_count": null,
   "metadata": {},
   "outputs": [],
   "source": [
    "import pickle\n",
    "import numpy as np\n",
    "import matplotlib.pyplot as plt"
   ]
  },
  {
   "cell_type": "code",
   "execution_count": null,
   "metadata": {
    "scrolled": true
   },
   "outputs": [],
   "source": [
    "def moving_avg(arr, window=3):\n",
    "    arr2 = np.zeros_like(arr).astype(np.float32)\n",
    "    for i in range(0,window-1):\n",
    "        arr2[i] = arr[:i+1].mean()\n",
    "    for i in range(window-1,len(arr)):\n",
    "        arr2[i] = arr[i-window+1:i+1].mean()\n",
    "    return arr2\n",
    "#moving_avg(input_arr[1],5)\n",
    "#input_arr\n",
    "    "
   ]
  },
  {
   "cell_type": "code",
   "execution_count": null,
   "metadata": {},
   "outputs": [],
   "source": [
    "mycore = 4\n",
    "desiredslice=3\n",
    "datalist = pickle.load(open('core'+str(mycore)+'ToSlice'+str(desiredslice)+'.pkl', 'rb'))"
   ]
  },
  {
   "cell_type": "code",
   "execution_count": null,
   "metadata": {},
   "outputs": [],
   "source": [
    "targets = []\n",
    "inputs = []\n",
    "threshold = 42\n",
    "for data in datalist:\n",
    "    for i in range(1,len(data)):\n",
    "        bit, trace = data[i]\n",
    "        if data[i-1][0] == 0:\n",
    "            continue\n",
    "        if len(trace) >= threshold:\n",
    "            targets.append(bit)\n",
    "            inputs.append(list(trace[:threshold]))\n",
    "        elif len(trace) >= threshold//2 and i < len(data)-1 and len(data[i+1][1]) + len(trace) >= threshold:\n",
    "            pass\n",
    "            #targets.append(bit)\n",
    "            #inputs.append(list(trace) + list(data[i+1][1][:threshold-len(trace)]))\n",
    "            \n",
    "target_arr = np.array(targets)\n",
    "input_arr = np.array(inputs)\n",
    "print(len(input_arr))\n",
    "print(target_arr.sum())"
   ]
  },
  {
   "cell_type": "code",
   "execution_count": null,
   "metadata": {
    "scrolled": false
   },
   "outputs": [],
   "source": [
    "\n",
    "fig = plt.figure(figsize=(15,15))\n",
    "seed = np.random.randint(len(targets)-10)\n",
    "for idx in range(1,10):\n",
    "    rn = seed + idx\n",
    "    ax1 = fig.add_subplot(3,3,idx)\n",
    "    ax1.set_title(str(targets[rn]))\n",
    "    xaxis = np.arange(1,threshold+1)\n",
    "    yaxis = moving_avg(input_arr[rn],3)\n",
    "    #yaxis = input_arr[rn]\n",
    "    print(input_arr[rn].mean())\n",
    "    ax1.plot(xaxis,yaxis)\n",
    "    axes = plt.gca()\n",
    "    #axes.set_ylim([145,220])\n",
    "fig.show()"
   ]
  },
  {
   "cell_type": "code",
   "execution_count": null,
   "metadata": {},
   "outputs": [],
   "source": [
    "train_x = []\n",
    "train_y = []\n",
    "test_x = []\n",
    "test_y = []\n",
    "\n",
    "for i in range(len(target_arr)):\n",
    "    mn = input_arr[i].mean()\n",
    "    st = input_arr[i].std()\n",
    "    xdata = (input_arr[i]-mn)/st\n",
    "    if i%4 == 0:\n",
    "        test_x.append(xdata)\n",
    "        test_y.append(target_arr[i])\n",
    "    else:\n",
    "        train_x.append(xdata)\n",
    "        train_y.append(target_arr[i])\n",
    "len(test_x)"
   ]
  },
  {
   "cell_type": "code",
   "execution_count": null,
   "metadata": {},
   "outputs": [],
   "source": [
    "from sklearn import svm\n",
    "clf = svm.SVC()\n",
    "clf.fit(train_x, train_y)\n",
    "pred_y = clf.predict(test_x)\n",
    "(pred_y == test_y).sum()/len(pred_y)"
   ]
  },
  {
   "cell_type": "code",
   "execution_count": null,
   "metadata": {},
   "outputs": [],
   "source": [
    "from sklearn.metrics import f1_score\n",
    "f1_score(test_y, pred_y)"
   ]
  },
  {
   "cell_type": "code",
   "execution_count": null,
   "metadata": {},
   "outputs": [],
   "source": [
    "lens = [(len(d[1]),d[0]) for d in data]"
   ]
  },
  {
   "cell_type": "code",
   "execution_count": null,
   "metadata": {},
   "outputs": [],
   "source": [
    "lens"
   ]
  },
  {
   "cell_type": "code",
   "execution_count": null,
   "metadata": {},
   "outputs": [],
   "source": [
    "input_arr.mean()"
   ]
  },
  {
   "cell_type": "code",
   "execution_count": null,
   "metadata": {},
   "outputs": [],
   "source": []
  }
 ],
 "metadata": {
  "kernelspec": {
   "display_name": "Python 3",
   "language": "python",
   "name": "python3"
  },
  "language_info": {
   "codemirror_mode": {
    "name": "ipython",
    "version": 3
   },
   "file_extension": ".py",
   "mimetype": "text/x-python",
   "name": "python",
   "nbconvert_exporter": "python",
   "pygments_lexer": "ipython3",
   "version": "3.8.3"
  }
 },
 "nbformat": 4,
 "nbformat_minor": 2
}
